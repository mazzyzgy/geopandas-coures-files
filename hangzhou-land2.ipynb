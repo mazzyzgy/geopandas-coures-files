{
 "cells": [
  {
   "cell_type": "code",
   "execution_count": 1,
   "metadata": {},
   "outputs": [],
   "source": [
    "import geopandas as gpd\n",
    "from shapely.geometry import Point, Polygon\n",
    "import numpy as np\n",
    "import pandas as pd"
   ]
  },
  {
   "cell_type": "markdown",
   "metadata": {},
   "source": [
    "### 1、读取xzyd、zone、road和building"
   ]
  },
  {
   "cell_type": "code",
   "execution_count": 25,
   "metadata": {},
   "outputs": [],
   "source": [
    "gis_file = 'D:/2Gis/杭州基础数据库.gdb'\n",
    "xzyd = gpd.read_file(gis_file,layer='L1现状用地xzyd_c4_rk')\n",
    "zone = gpd.read_file(gis_file,layer='Z1市区交通小区3143')\n",
    "road = gpd.read_file(gis_file,layer='R1路网中心线_框架数据')\n",
    "building = gpd.read_file('D:\\\\2Gis\\\\Arcgis Packages\\\\市区建筑\\\\commondata\\\\4-gis\\\\市区建筑.shp')"
   ]
  },
  {
   "cell_type": "code",
   "execution_count": 3,
   "metadata": {},
   "outputs": [],
   "source": [
    "baidu_population = gpd.read_file('D:\\\\2Gis\\\\Arcgis Packages\\\\OD数据库\\\\od.gdb', layer='百度常住人口数量202411')\n",
    "baidu_employment = gpd.read_file('D:\\\\2Gis\\\\Arcgis Packages\\\\OD数据库\\\\od.gdb', layer='百度就业人口数量202411')"
   ]
  },
  {
   "cell_type": "code",
   "execution_count": 4,
   "metadata": {},
   "outputs": [
    {
     "name": "stdout",
     "output_type": "stream",
     "text": [
      "Building 原始几何体类型: ['Polygon' 'MultiPolygon']\n",
      "Building 中空几何体的数量 (NaN): 0\n"
     ]
    }
   ],
   "source": [
    "print(\"Building 原始几何体类型:\", building.geom_type.unique())\n",
    "# 检查是否有任何空几何体（NaN）\n",
    "print(\"Building 中空几何体的数量 (NaN):\", building.geometry.isna().sum())"
   ]
  },
  {
   "cell_type": "code",
   "execution_count": 26,
   "metadata": {},
   "outputs": [],
   "source": [
    "xzyd = xzyd.to_crs(\"EPSG:4549\")\n",
    "zone = zone.to_crs(\"EPSG:4549\")\n",
    "road  = road.to_crs(\"EPSG:4549\")\n",
    "building = building.to_crs(\"EPSG:4549\")\n",
    "baidu_population = baidu_population.to_crs(\"EPSG:4549\")\n",
    "baidu_employment = baidu_employment.to_crs(\"EPSG:4549\")"
   ]
  },
  {
   "cell_type": "code",
   "execution_count": null,
   "metadata": {},
   "outputs": [],
   "source": [
    "zone.explore()"
   ]
  },
  {
   "cell_type": "markdown",
   "metadata": {},
   "source": [
    "### 2、面层间的几个计算函数"
   ]
  },
  {
   "cell_type": "code",
   "execution_count": 6,
   "metadata": {},
   "outputs": [],
   "source": [
    "# # Analysis for each land-block分析面层内落入的点数量、线长度、面积和等（不分割）\n",
    "# def analyze_land(land_geometry):\n",
    "#     # Count features intersecting the neighborhood boundary\n",
    "#     num_schools = schools[schools.geometry.intersects(neighborhood_geometry)].shape[0]\n",
    "#     num_subways = subways[subways.geometry.intersects(neighborhood_geometry)].shape[0]\n",
    "#     bike_path_length = bike_paths[bike_paths.geometry.intersects(neighborhood_geometry)].length.sum()\n",
    "#     park_area = parks[parks.geometry.intersects(neighborhood_geometry)].area.sum()\n",
    "\n",
    "#     return num_schools, num_subways, bike_path_length, park_area"
   ]
  },
  {
   "cell_type": "code",
   "execution_count": 27,
   "metadata": {},
   "outputs": [],
   "source": [
    "def analyze_length(land_geometry):\n",
    "    # 地块内，道路长度计算\n",
    "    # 1. 筛选出与地块相交的自行车道（这里的地块只有一块）\n",
    "    intersecting_road = road[road.geometry.intersects(land_geometry)].copy()    \n",
    "    road_length = 0\n",
    "    \n",
    "    if not intersecting_road.empty:\n",
    "        # 2. 计算自行车道与邻里几何形状的交集\n",
    "        # intersection() 方法会返回 LineString 的相交部分\n",
    "        # (如果 LineString 与 Polygon 相交，结果通常是 LineString 或 MultiLineString)\n",
    "        intersected_geometries = intersecting_road.geometry.intersection(land_geometry)\n",
    "        \n",
    "        # 3. 对相交后的几何图形计算长度并求和\n",
    "        # 这一步只计算几何图形位于 land_geometry 内部的那一部分的长度\n",
    "        road_length = intersected_geometries.length.sum()\n",
    "\n",
    "    # park_area 的计算现在是 jzmj 的折减求和 (沿用您之前的要求)\n",
    "    # ... (park_area 的计算逻辑与您上一个问题中的答案相同)\n",
    "    \n",
    "    return road_length"
   ]
  },
  {
   "cell_type": "code",
   "execution_count": 6,
   "metadata": {},
   "outputs": [],
   "source": [
    "# 两个面层，根据相交部分面积占比，计算属性和\n",
    "def calculate_proportional_park_attribute_fast(\n",
    "    neighborhoods: gpd.GeoDataFrame,\n",
    "    parks: gpd.GeoDataFrame,\n",
    "    attribute_col: str = 'BUILDAREA'\n",
    "):\n",
    "    if neighborhoods.crs != parks.crs:\n",
    "        neighborhoods = neighborhoods.to_crs(parks.crs)\n",
    "\n",
    "    print(\"Step 1/3: Performing spatial join...\")\n",
    "    neighborhoods_for_join = neighborhoods[['geometry']].copy()\n",
    "    # ensure a stable, named index\n",
    "    if neighborhoods_for_join.index.name is None:\n",
    "        neighborhoods_for_join = neighborhoods_for_join.rename_axis('dk_id')\n",
    "    right_index_name = neighborhoods_for_join.index.name  # e.g., 'dk_id'\n",
    "\n",
    "    neighborhoods_for_join = neighborhoods_for_join.rename_geometry('neighborhood_geometry')\n",
    "\n",
    "    joined_df = gpd.sjoin(\n",
    "        parks.copy(),\n",
    "        neighborhoods_for_join,\n",
    "        how='inner',\n",
    "        predicate='intersects',\n",
    "        lsuffix='park',\n",
    "        rsuffix='neigh',\n",
    "    )\n",
    "\n",
    "    # --- Find the right-side id column (can be 'index_right' OR the right index name, e.g. 'dk_id') ---\n",
    "    candidates = []\n",
    "    if 'index_right' in joined_df.columns:\n",
    "        candidates.append('index_right')\n",
    "    if right_index_name and right_index_name in joined_df.columns:\n",
    "        candidates.append(right_index_name)\n",
    "    # common fallback some users see:\n",
    "    if 'index_neigh' in joined_df.columns:\n",
    "        candidates.append('index_neigh')\n",
    "\n",
    "    if not candidates:\n",
    "        raise KeyError(\n",
    "            f\"Could not find right-side id column after sjoin. \"\n",
    "            f\"Available columns: {list(joined_df.columns)}; expected one of \"\n",
    "            f\"['index_right', '{right_index_name}', 'index_neigh']\"\n",
    "        )\n",
    "    right_id_col = candidates[0]  # pick the first match\n",
    "\n",
    "    # Bring back right-hand geometries aligned by the detected id column\n",
    "    neigh_geom_aligned = neighborhoods_for_join.loc[\n",
    "        joined_df[right_id_col], 'neighborhood_geometry'\n",
    "    ].values\n",
    "    joined_df = joined_df.reset_index(drop=False)\n",
    "    joined_df['neighborhood_geometry'] = neigh_geom_aligned\n",
    "\n",
    "    print(\"Step 2/3: Calculating intersection area and proportional attribute...\")\n",
    "\n",
    "    joined_df['intersection_geometry'] = joined_df['geometry'].intersection(\n",
    "        joined_df['neighborhood_geometry']\n",
    "    )\n",
    "    joined_df['original_area']   = joined_df['geometry'].area\n",
    "    joined_df['intersect_area']  = joined_df['intersection_geometry'].area\n",
    "    joined_df['area_ratio'] = np.where(\n",
    "        joined_df['original_area'] > 0,\n",
    "        joined_df['intersect_area'] / joined_df['original_area'],\n",
    "        0.0\n",
    "    )\n",
    "    joined_df['area_ratio'] = np.clip(joined_df['area_ratio'], 0.0, 1.0)\n",
    "    joined_df['discounted_attribute'] = joined_df[attribute_col] * joined_df['area_ratio']\n",
    "\n",
    "    print(\"Step 3/3: Grouping and summing the results...\")\n",
    "\n",
    "    results = (\n",
    "        joined_df\n",
    "        .groupby(right_id_col)['discounted_attribute']\n",
    "        .sum()\n",
    "        .rename(f'sum_weighted_{attribute_col}')\n",
    "        .to_frame()\n",
    "    )\n",
    "\n",
    "    # Optional: align to all neighborhoods (fill missing with 0)\n",
    "    results = results.reindex(neighborhoods_for_join.index, fill_value=0.0)\n",
    "\n",
    "    return results\n"
   ]
  },
  {
   "cell_type": "markdown",
   "metadata": {},
   "source": [
    "### 3、计算xzyd图层中building的建筑面积和"
   ]
  },
  {
   "cell_type": "code",
   "execution_count": 8,
   "metadata": {},
   "outputs": [],
   "source": [
    "# Apply analysis to each neighborhood\n",
    "zone['road_length'] = zone.geometry.apply(\n",
    "    lambda geom: pd.Series(analyze_length(geom))\n",
    ")"
   ]
  },
  {
   "cell_type": "code",
   "execution_count": 17,
   "metadata": {},
   "outputs": [
    {
     "name": "stdout",
     "output_type": "stream",
     "text": [
      "Step 1/3: Performing spatial join...\n",
      "Step 2/3: Calculating intersection area and proportional attribute...\n",
      "Step 3/3: Grouping and summing the results...\n",
      "       sum_weighted_BUILDAREA\n",
      "dk_id                        \n",
      "0                    0.000000\n",
      "1                    0.000000\n",
      "2                    0.000000\n",
      "3                  223.748551\n",
      "4                   75.739186\n"
     ]
    }
   ],
   "source": [
    "# # 运行函数\n",
    "weighted_jzmj_results = calculate_proportional_park_attribute_fast(xzyd, building, attribute_col='BUILDAREA')\n",
    "print(weighted_jzmj_results.head())"
   ]
  },
  {
   "cell_type": "markdown",
   "metadata": {},
   "source": [
    "### 4、对xzyd和building进行标识，找出没有building的地块，和没有地块的building"
   ]
  },
  {
   "cell_type": "code",
   "execution_count": 28,
   "metadata": {},
   "outputs": [
    {
     "name": "stdout",
     "output_type": "stream",
     "text": [
      "无相交地块数量: 44244\n",
      "无相交建筑数量: 82377\n"
     ]
    }
   ],
   "source": [
    "# 1) 清理空几何并尝试修复无效几何\n",
    "xzyd = xzyd[xzyd.geometry.notnull()].copy()\n",
    "building = building[building.geometry.notnull()].copy()\n",
    "\n",
    "# 2) 确保两层 CRS 一致\n",
    "if xzyd.crs != building.crs:\n",
    "    building = building.to_crs(xzyd.crs)\n",
    "\n",
    "# 3) 标识出 xzyd 中是否有与任何 building 相交的地块\n",
    "# 使用 sjoin 左连接 xzyd 到 building，以保留 xzyd 所有记录\n",
    "j_xz_bd = gpd.sjoin(\n",
    "    xzyd[['geometry']], building[['geometry']],\n",
    "    how='left', predicate='intersects'\n",
    ")\n",
    "# 找出所有在 sjoin 结果中 'index_right' 不为空（即有相交）的 xzyd 索引\n",
    "xz_has_bd_idx = j_xz_bd.index[~j_xz_bd['index_right'].isna()].unique()\n",
    "# 增加字段 'has_building_intersection'\n",
    "# True 表示有相交，False 表示没有相交\n",
    "xzyd['has_building_intersection'] = xzyd.index.isin(xz_has_bd_idx)\n",
    "# 移除筛选子集的代码：xzyd_no_building = xzyd[xzyd['no_building_intersection']].copy()\n",
    "\n",
    "# 4) 标识出 building 中是否有与任何 xzyd 相交的建筑\n",
    "# 使用 sjoin 左连接 building 到 xzyd，以保留 building 所有记录\n",
    "j_bd_xz = gpd.sjoin(\n",
    "    building[['geometry']], xzyd[['geometry']],\n",
    "    how='left', predicate='intersects'\n",
    ")\n",
    "# 找出所有在 sjoin 结果中 'index_right' 不为空（即有相交）的 building 索引\n",
    "bd_has_xz_idx = j_bd_xz.index[~j_bd_xz['index_right'].isna()].unique()\n",
    "# 增加字段 'has_xzyd_intersection'\n",
    "# True 表示有相交，False 表示没有相交\n",
    "building['has_xzyd_intersection'] = building.index.isin(bd_has_xz_idx)\n",
    "# 移除筛选子集的代码：building_no_xzyd = building[building['no_xzyd_intersection']].copy()\n",
    "\n",
    "# 5) 快速核对数量\n",
    "# 现在核对的是无相交的数量，它等于 'has_intersection' 字段为 False 的数量\n",
    "print(\"无相交地块数量:\", len(xzyd[~xzyd['has_building_intersection']]))\n",
    "print(\"无相交建筑数量:\", len(building[~building['has_xzyd_intersection']]))\n",
    "\n",
    "# 6) 检查新字段是否已添加到原始 GeoDataFrame 中 (可选)\n",
    "# print(\"\\nxzyd 的前几行及相交字段：\")\n",
    "# print(xzyd[['has_building_intersection']].head())\n",
    "# print(\"\\nbuilding 的前几行及相交字段：\")\n",
    "# print(building[['has_xzyd_intersection']].head())"
   ]
  },
  {
   "cell_type": "code",
   "execution_count": 23,
   "metadata": {},
   "outputs": [
    {
     "data": {
      "text/plain": [
       "(115795, 63)"
      ]
     },
     "execution_count": 23,
     "metadata": {},
     "output_type": "execute_result"
    }
   ],
   "source": [
    "xzyd.shape"
   ]
  },
  {
   "cell_type": "code",
   "execution_count": 21,
   "metadata": {},
   "outputs": [
    {
     "data": {
      "text/plain": [
       "(1559143, 29)"
      ]
     },
     "execution_count": 21,
     "metadata": {},
     "output_type": "execute_result"
    }
   ],
   "source": [
    "building.shape"
   ]
  },
  {
   "cell_type": "markdown",
   "metadata": {},
   "source": [
    "### 5、计算地块人口、岗位数"
   ]
  },
  {
   "cell_type": "markdown",
   "metadata": {},
   "source": [
    "#### 5.1根据（1）建筑面积（building和容积率计算，优先前者）、\n",
    "（2）分行政区人均居住面积（xlsx）（‘现状人口平均面积’、‘现状岗位平均面积’）（‘人口调整系数’、‘岗位调整系数’）计算"
   ]
  },
  {
   "cell_type": "code",
   "execution_count": 10,
   "metadata": {},
   "outputs": [
    {
     "data": {
      "text/plain": [
       "Index(['BSM', '地块编号', 'xzdkID', 'DLBM', 'DLMC', 'XDLDM', 'XDLMC', 'dlmc_12',\n",
       "       '现状地类代码', '现状地类名称', '现状主地类代码', '现状主地类名称', '现状主地类编码', 'z_ydf2', '用地类别f',\n",
       "       'land_type1', 'land_type2', 'LANDUSAGE', 'similarity', 'rjl', 'z_rjl',\n",
       "       'z_rjl2', 'ldl', 'jzmd', 'jzgd', 'xglx', 'bz', 'ssqx', '供地方式', '权属性质',\n",
       "       '开发动态', 'intersect_point_count', 'buffer_point_count',\n",
       "       'total_point_count', 'BUILDAREA', 'allocated_buildarea', 'cal_rjl',\n",
       "       'ref_rjl2', 'z_rjl3', 'rjl_final', 'jzmj_cal', 'belong_TID',\n",
       "       'Belong_RegID', 'belong_TIDB', 'belong_jiedao', 'belong_xzq',\n",
       "       '现状岗位平均面积', '现状人口平均面积', '现状人口数', '现状岗位数', '人口调整系数', '岗位调整系数',\n",
       "       '现状人口数adj', '现状岗位数adj', '岗位大类', '用地类别f_规划', '岗位大类_规划', 'Shape_Length',\n",
       "       'Shape_Area', '面积', 'geometry'],\n",
       "      dtype='object')"
      ]
     },
     "execution_count": 10,
     "metadata": {},
     "output_type": "execute_result"
    }
   ],
   "source": [
    "xzyd.columns"
   ]
  },
  {
   "cell_type": "code",
   "execution_count": 29,
   "metadata": {},
   "outputs": [],
   "source": [
    "xzyd['现状人口数adj'] = np.where(xzyd['allocated_buildarea'].notna(), \n",
    "    xzyd['allocated_buildarea'],  # 条件为真时取字段1\n",
    "    xzyd['jzmj_cal'])/xzyd['现状人口平均面积']*xzyd['人口调整系数']"
   ]
  },
  {
   "cell_type": "code",
   "execution_count": 20,
   "metadata": {},
   "outputs": [
    {
     "data": {
      "text/plain": [
       "np.float64(12223172.821290608)"
      ]
     },
     "execution_count": 20,
     "metadata": {},
     "output_type": "execute_result"
    }
   ],
   "source": [
    "xzyd['现状人口数'].sum()"
   ]
  },
  {
   "cell_type": "code",
   "execution_count": 42,
   "metadata": {},
   "outputs": [
    {
     "data": {
      "text/plain": [
       "np.float64(10936914.760426918)"
      ]
     },
     "execution_count": 42,
     "metadata": {},
     "output_type": "execute_result"
    }
   ],
   "source": [
    "xzyd['现状人口数adj'].sum()"
   ]
  },
  {
   "cell_type": "markdown",
   "metadata": {},
   "source": [
    "#### 5.2与百度人口点统计进行对比\n",
    " (a)排除'用地类别f'中道路、绿地、河流等不可能有居住人口和岗位的用地\n",
    "（b）用百度人口点与xzyd图层空间进行连接，将所在地块的dkID赋值给点图层\n",
    "（c）没有相交关系的点，有可能是现状地块有缺失（需要补地块），用building层去连接，并进行标记\n",
    "（d）与Buidling也没有相交关系的，则找到与其距离最近的地块，将最近地块的dkID赋值给点图层\n",
    "（e）基于用地类别f进行分组汇总，统计不同区不同用地类别f中的人口、岗位数量\n"
   ]
  },
  {
   "cell_type": "code",
   "execution_count": null,
   "metadata": {},
   "outputs": [
    {
     "data": {
      "text/plain": [
       "array(['R农', 'M', 'A办', 'A中小', 'B办', 'R', 'B', 'A', 'B市', 'RB', 'A文体',\n",
       "       'A医', 'B旅', 'A教科', 'M创', 'A高', 'R别墅', 'W', None, 'R服', 'R农服'],\n",
       "      dtype=object)"
      ]
     },
     "metadata": {},
     "output_type": "display_data"
    }
   ],
   "source": [
    "#  （a）排除 '用地类别f' 中道路、绿地、河流等不可能有居住人口和岗位的用地\n",
    "#  目前'用地类别f' 中没有这些非建设用地\n",
    "xzyd['用地类别f'].unique()"
   ]
  },
  {
   "cell_type": "code",
   "execution_count": 30,
   "metadata": {},
   "outputs": [],
   "source": [
    "# (b) 点落到地块（within），赋值 dkID 与 '用地类别f'\n",
    "join1 = gpd.sjoin(\n",
    "    baidu_population, xzyd[['xzdkID', '用地类别f', 'geometry']],\n",
    "    how='left', predicate='within', lsuffix='pop', rsuffix='dk'\n",
    ")\n",
    "join1 = join1[~join1.index.duplicated(keep='first')]\n",
    "join1['match_level'] = np.where(join1['xzdkID'].notna(), 'xzyd', 'unmatched')"
   ]
  },
  {
   "cell_type": "code",
   "execution_count": 31,
   "metadata": {},
   "outputs": [],
   "source": [
    "# (c) 未匹配点与 building 连接（within）并标记\n",
    "unmatched_mask = join1['match_level'].eq('unmatched')\n",
    "if unmatched_mask.any():\n",
    "    join_bld = gpd.sjoin(\n",
    "    join1.loc[unmatched_mask, ['geometry']].set_geometry('geometry'),\n",
    "    building[['OBJECTID', 'LANDUSAGE', 'geometry']], how='left', predicate='within'\n",
    "    )\n",
    "\n",
    "    join_bld = join_bld[~join_bld.index.duplicated(keep='first')]\n",
    "    # 标记落在建筑内的点\n",
    "    join1.loc[unmatched_mask,'match_level'] = np.where(join_bld['OBJECTID'].notna(), 'building', 'unmatched')  \n",
    "    join1.loc[unmatched_mask,'用地类别f'] = np.where(join_bld['OBJECTID'].notna(), join_bld['LANDUSAGE'],'')      "
   ]
  },
  {
   "cell_type": "code",
   "execution_count": 32,
   "metadata": {},
   "outputs": [
    {
     "data": {
      "text/html": [
       "<div>\n",
       "<style scoped>\n",
       "    .dataframe tbody tr th:only-of-type {\n",
       "        vertical-align: middle;\n",
       "    }\n",
       "\n",
       "    .dataframe tbody tr th {\n",
       "        vertical-align: top;\n",
       "    }\n",
       "\n",
       "    .dataframe thead th {\n",
       "        text-align: right;\n",
       "    }\n",
       "</style>\n",
       "<table border=\"1\" class=\"dataframe\">\n",
       "  <thead>\n",
       "    <tr style=\"text-align: right;\">\n",
       "      <th></th>\n",
       "      <th>人数</th>\n",
       "      <th>geometry</th>\n",
       "      <th>index_dk</th>\n",
       "      <th>xzdkID</th>\n",
       "      <th>用地类别f</th>\n",
       "      <th>match_level</th>\n",
       "      <th>nearest_dist</th>\n",
       "    </tr>\n",
       "  </thead>\n",
       "  <tbody>\n",
       "    <tr>\n",
       "      <th>0</th>\n",
       "      <td>174.0</td>\n",
       "      <td>POINT (529543.863 3366715.274)</td>\n",
       "      <td>79629.0</td>\n",
       "      <td>79724.0</td>\n",
       "      <td>R</td>\n",
       "      <td>xzyd</td>\n",
       "      <td>NaN</td>\n",
       "    </tr>\n",
       "    <tr>\n",
       "      <th>1</th>\n",
       "      <td>15.0</td>\n",
       "      <td>POINT (554174.429 3351174.996)</td>\n",
       "      <td>NaN</td>\n",
       "      <td>69015.0</td>\n",
       "      <td>R农</td>\n",
       "      <td>nearest</td>\n",
       "      <td>89.690084</td>\n",
       "    </tr>\n",
       "    <tr>\n",
       "      <th>2</th>\n",
       "      <td>200.0</td>\n",
       "      <td>POINT (549808.468 3338360.907)</td>\n",
       "      <td>NaN</td>\n",
       "      <td>72495.0</td>\n",
       "      <td>R</td>\n",
       "      <td>nearest</td>\n",
       "      <td>7.898587</td>\n",
       "    </tr>\n",
       "    <tr>\n",
       "      <th>3</th>\n",
       "      <td>415.0</td>\n",
       "      <td>POINT (519757.303 3340138.103)</td>\n",
       "      <td>112516.0</td>\n",
       "      <td>120036.0</td>\n",
       "      <td>R</td>\n",
       "      <td>xzyd</td>\n",
       "      <td>NaN</td>\n",
       "    </tr>\n",
       "    <tr>\n",
       "      <th>4</th>\n",
       "      <td>303.0</td>\n",
       "      <td>POINT (494575.395 3347183.194)</td>\n",
       "      <td>83419.0</td>\n",
       "      <td>83514.0</td>\n",
       "      <td>R别墅</td>\n",
       "      <td>xzyd</td>\n",
       "      <td>NaN</td>\n",
       "    </tr>\n",
       "    <tr>\n",
       "      <th>...</th>\n",
       "      <td>...</td>\n",
       "      <td>...</td>\n",
       "      <td>...</td>\n",
       "      <td>...</td>\n",
       "      <td>...</td>\n",
       "      <td>...</td>\n",
       "      <td>...</td>\n",
       "    </tr>\n",
       "    <tr>\n",
       "      <th>284153</th>\n",
       "      <td>1.0</td>\n",
       "      <td>POINT (531482.054 3355975.001)</td>\n",
       "      <td>NaN</td>\n",
       "      <td>18274.0</td>\n",
       "      <td>A中小</td>\n",
       "      <td>nearest</td>\n",
       "      <td>94.687690</td>\n",
       "    </tr>\n",
       "    <tr>\n",
       "      <th>284154</th>\n",
       "      <td>1.0</td>\n",
       "      <td>POINT (503032.377 3355688.346)</td>\n",
       "      <td>107126.0</td>\n",
       "      <td>109085.0</td>\n",
       "      <td>M</td>\n",
       "      <td>xzyd</td>\n",
       "      <td>NaN</td>\n",
       "    </tr>\n",
       "    <tr>\n",
       "      <th>284155</th>\n",
       "      <td>1.0</td>\n",
       "      <td>POINT (531864.744 3343781.64)</td>\n",
       "      <td>NaN</td>\n",
       "      <td>61669.0</td>\n",
       "      <td>A办</td>\n",
       "      <td>nearest</td>\n",
       "      <td>63.160361</td>\n",
       "    </tr>\n",
       "    <tr>\n",
       "      <th>284156</th>\n",
       "      <td>1.0</td>\n",
       "      <td>POINT (476908.9 3298330.753)</td>\n",
       "      <td>NaN</td>\n",
       "      <td>8698.0</td>\n",
       "      <td>M</td>\n",
       "      <td>nearest</td>\n",
       "      <td>7831.678986</td>\n",
       "    </tr>\n",
       "    <tr>\n",
       "      <th>284157</th>\n",
       "      <td>1.0</td>\n",
       "      <td>POINT (483139.724 3341998.979)</td>\n",
       "      <td>NaN</td>\n",
       "      <td>25097.0</td>\n",
       "      <td>R农</td>\n",
       "      <td>nearest</td>\n",
       "      <td>6.416189</td>\n",
       "    </tr>\n",
       "  </tbody>\n",
       "</table>\n",
       "<p>284158 rows × 7 columns</p>\n",
       "</div>"
      ],
      "text/plain": [
       "           人数                        geometry  index_dk    xzdkID 用地类别f  \\\n",
       "0       174.0  POINT (529543.863 3366715.274)   79629.0   79724.0     R   \n",
       "1        15.0  POINT (554174.429 3351174.996)       NaN   69015.0    R农   \n",
       "2       200.0  POINT (549808.468 3338360.907)       NaN   72495.0     R   \n",
       "3       415.0  POINT (519757.303 3340138.103)  112516.0  120036.0     R   \n",
       "4       303.0  POINT (494575.395 3347183.194)   83419.0   83514.0   R别墅   \n",
       "...       ...                             ...       ...       ...   ...   \n",
       "284153    1.0  POINT (531482.054 3355975.001)       NaN   18274.0   A中小   \n",
       "284154    1.0  POINT (503032.377 3355688.346)  107126.0  109085.0     M   \n",
       "284155    1.0   POINT (531864.744 3343781.64)       NaN   61669.0    A办   \n",
       "284156    1.0    POINT (476908.9 3298330.753)       NaN    8698.0     M   \n",
       "284157    1.0  POINT (483139.724 3341998.979)       NaN   25097.0    R农   \n",
       "\n",
       "       match_level  nearest_dist  \n",
       "0             xzyd           NaN  \n",
       "1          nearest     89.690084  \n",
       "2          nearest      7.898587  \n",
       "3             xzyd           NaN  \n",
       "4             xzyd           NaN  \n",
       "...            ...           ...  \n",
       "284153     nearest     94.687690  \n",
       "284154        xzyd           NaN  \n",
       "284155     nearest     63.160361  \n",
       "284156     nearest   7831.678986  \n",
       "284157     nearest      6.416189  \n",
       "\n",
       "[284158 rows x 7 columns]"
      ]
     },
     "execution_count": 32,
     "metadata": {},
     "output_type": "execute_result"
    }
   ],
   "source": [
    "# (d) 仍未匹配的点，匹配最近地块（使用有效用地）\n",
    "still_unmatched = join1['match_level'].eq('unmatched')\n",
    "if still_unmatched.any():\n",
    "    near = gpd.sjoin_nearest(\n",
    "        join1.loc[still_unmatched, ['geometry']].set_geometry('geometry'),\n",
    "        xzyd[['xzdkID', '用地类别f', 'geometry']],\n",
    "        how='left', distance_col='nearest_dist'\n",
    "    )  \n",
    "    #去重 \n",
    "    near = near[~near.index.duplicated(keep='first')]\n",
    "    # 将距离字段合并回原始的 join1（或者使用投影后的 join1_proj 进行后续操作）   \n",
    "\n",
    "    join1.loc[still_unmatched, 'xzdkID'] = near['xzdkID'].values\n",
    "    join1.loc[still_unmatched, '用地类别f'] = near['用地类别f'].values\n",
    "    join1.loc[still_unmatched, 'nearest_dist'] = near['nearest_dist'].values\n",
    "    join1.loc[still_unmatched, 'match_level'] = 'nearest'\n",
    "join1"
   ]
  },
  {
   "cell_type": "code",
   "execution_count": 33,
   "metadata": {},
   "outputs": [],
   "source": [
    "baidu_population_merged = baidu_population.join(join1[['xzdkID','用地类别f','match_level','nearest_dist']])"
   ]
  },
  {
   "cell_type": "code",
   "execution_count": 28,
   "metadata": {},
   "outputs": [
    {
     "data": {
      "text/html": [
       "<div>\n",
       "<style scoped>\n",
       "    .dataframe tbody tr th:only-of-type {\n",
       "        vertical-align: middle;\n",
       "    }\n",
       "\n",
       "    .dataframe tbody tr th {\n",
       "        vertical-align: top;\n",
       "    }\n",
       "\n",
       "    .dataframe thead th {\n",
       "        text-align: right;\n",
       "    }\n",
       "</style>\n",
       "<table border=\"1\" class=\"dataframe\">\n",
       "  <thead>\n",
       "    <tr style=\"text-align: right;\">\n",
       "      <th></th>\n",
       "      <th>人数</th>\n",
       "      <th>geometry</th>\n",
       "      <th>xzdkID</th>\n",
       "      <th>用地类别f</th>\n",
       "      <th>match_level</th>\n",
       "      <th>nearest_dist</th>\n",
       "    </tr>\n",
       "  </thead>\n",
       "  <tbody>\n",
       "    <tr>\n",
       "      <th>0</th>\n",
       "      <td>174.0</td>\n",
       "      <td>POINT (529543.863 3366715.274)</td>\n",
       "      <td>79724.0</td>\n",
       "      <td>R</td>\n",
       "      <td>xzyd</td>\n",
       "      <td>NaN</td>\n",
       "    </tr>\n",
       "    <tr>\n",
       "      <th>1</th>\n",
       "      <td>15.0</td>\n",
       "      <td>POINT (554174.429 3351174.996)</td>\n",
       "      <td>69015.0</td>\n",
       "      <td>R农</td>\n",
       "      <td>nearest</td>\n",
       "      <td>89.690084</td>\n",
       "    </tr>\n",
       "    <tr>\n",
       "      <th>2</th>\n",
       "      <td>200.0</td>\n",
       "      <td>POINT (549808.468 3338360.907)</td>\n",
       "      <td>72495.0</td>\n",
       "      <td>R</td>\n",
       "      <td>nearest</td>\n",
       "      <td>7.898587</td>\n",
       "    </tr>\n",
       "    <tr>\n",
       "      <th>3</th>\n",
       "      <td>415.0</td>\n",
       "      <td>POINT (519757.303 3340138.103)</td>\n",
       "      <td>120036.0</td>\n",
       "      <td>R</td>\n",
       "      <td>xzyd</td>\n",
       "      <td>NaN</td>\n",
       "    </tr>\n",
       "    <tr>\n",
       "      <th>4</th>\n",
       "      <td>303.0</td>\n",
       "      <td>POINT (494575.395 3347183.194)</td>\n",
       "      <td>83514.0</td>\n",
       "      <td>R别墅</td>\n",
       "      <td>xzyd</td>\n",
       "      <td>NaN</td>\n",
       "    </tr>\n",
       "    <tr>\n",
       "      <th>...</th>\n",
       "      <td>...</td>\n",
       "      <td>...</td>\n",
       "      <td>...</td>\n",
       "      <td>...</td>\n",
       "      <td>...</td>\n",
       "      <td>...</td>\n",
       "    </tr>\n",
       "    <tr>\n",
       "      <th>284153</th>\n",
       "      <td>1.0</td>\n",
       "      <td>POINT (531482.054 3355975.001)</td>\n",
       "      <td>18274.0</td>\n",
       "      <td>A中小</td>\n",
       "      <td>nearest</td>\n",
       "      <td>94.687690</td>\n",
       "    </tr>\n",
       "    <tr>\n",
       "      <th>284154</th>\n",
       "      <td>1.0</td>\n",
       "      <td>POINT (503032.377 3355688.346)</td>\n",
       "      <td>109085.0</td>\n",
       "      <td>M</td>\n",
       "      <td>xzyd</td>\n",
       "      <td>NaN</td>\n",
       "    </tr>\n",
       "    <tr>\n",
       "      <th>284155</th>\n",
       "      <td>1.0</td>\n",
       "      <td>POINT (531864.744 3343781.64)</td>\n",
       "      <td>61669.0</td>\n",
       "      <td>A办</td>\n",
       "      <td>nearest</td>\n",
       "      <td>63.160361</td>\n",
       "    </tr>\n",
       "    <tr>\n",
       "      <th>284156</th>\n",
       "      <td>1.0</td>\n",
       "      <td>POINT (476908.9 3298330.753)</td>\n",
       "      <td>8698.0</td>\n",
       "      <td>M</td>\n",
       "      <td>nearest</td>\n",
       "      <td>7831.678986</td>\n",
       "    </tr>\n",
       "    <tr>\n",
       "      <th>284157</th>\n",
       "      <td>1.0</td>\n",
       "      <td>POINT (483139.724 3341998.979)</td>\n",
       "      <td>25097.0</td>\n",
       "      <td>R农</td>\n",
       "      <td>nearest</td>\n",
       "      <td>6.416189</td>\n",
       "    </tr>\n",
       "  </tbody>\n",
       "</table>\n",
       "<p>284158 rows × 6 columns</p>\n",
       "</div>"
      ],
      "text/plain": [
       "           人数                        geometry    xzdkID 用地类别f match_level  \\\n",
       "0       174.0  POINT (529543.863 3366715.274)   79724.0     R        xzyd   \n",
       "1        15.0  POINT (554174.429 3351174.996)   69015.0    R农     nearest   \n",
       "2       200.0  POINT (549808.468 3338360.907)   72495.0     R     nearest   \n",
       "3       415.0  POINT (519757.303 3340138.103)  120036.0     R        xzyd   \n",
       "4       303.0  POINT (494575.395 3347183.194)   83514.0   R别墅        xzyd   \n",
       "...       ...                             ...       ...   ...         ...   \n",
       "284153    1.0  POINT (531482.054 3355975.001)   18274.0   A中小     nearest   \n",
       "284154    1.0  POINT (503032.377 3355688.346)  109085.0     M        xzyd   \n",
       "284155    1.0   POINT (531864.744 3343781.64)   61669.0    A办     nearest   \n",
       "284156    1.0    POINT (476908.9 3298330.753)    8698.0     M     nearest   \n",
       "284157    1.0  POINT (483139.724 3341998.979)   25097.0    R农     nearest   \n",
       "\n",
       "        nearest_dist  \n",
       "0                NaN  \n",
       "1          89.690084  \n",
       "2           7.898587  \n",
       "3                NaN  \n",
       "4                NaN  \n",
       "...              ...  \n",
       "284153     94.687690  \n",
       "284154           NaN  \n",
       "284155     63.160361  \n",
       "284156   7831.678986  \n",
       "284157      6.416189  \n",
       "\n",
       "[284158 rows x 6 columns]"
      ]
     },
     "execution_count": 28,
     "metadata": {},
     "output_type": "execute_result"
    }
   ],
   "source": [
    "baidu_population_merged"
   ]
  },
  {
   "cell_type": "code",
   "execution_count": 34,
   "metadata": {},
   "outputs": [
    {
     "data": {
      "text/html": [
       "<div>\n",
       "<style scoped>\n",
       "    .dataframe tbody tr th:only-of-type {\n",
       "        vertical-align: middle;\n",
       "    }\n",
       "\n",
       "    .dataframe tbody tr th {\n",
       "        vertical-align: top;\n",
       "    }\n",
       "\n",
       "    .dataframe thead th {\n",
       "        text-align: right;\n",
       "    }\n",
       "</style>\n",
       "<table border=\"1\" class=\"dataframe\">\n",
       "  <thead>\n",
       "    <tr style=\"text-align: right;\">\n",
       "      <th></th>\n",
       "      <th>baidu_population</th>\n",
       "    </tr>\n",
       "    <tr>\n",
       "      <th>xzdkID</th>\n",
       "      <th></th>\n",
       "    </tr>\n",
       "  </thead>\n",
       "  <tbody>\n",
       "    <tr>\n",
       "      <th>0.0</th>\n",
       "      <td>21.0</td>\n",
       "    </tr>\n",
       "    <tr>\n",
       "      <th>2.0</th>\n",
       "      <td>9.0</td>\n",
       "    </tr>\n",
       "    <tr>\n",
       "      <th>5.0</th>\n",
       "      <td>1.0</td>\n",
       "    </tr>\n",
       "    <tr>\n",
       "      <th>6.0</th>\n",
       "      <td>3.0</td>\n",
       "    </tr>\n",
       "    <tr>\n",
       "      <th>7.0</th>\n",
       "      <td>28.0</td>\n",
       "    </tr>\n",
       "    <tr>\n",
       "      <th>...</th>\n",
       "      <td>...</td>\n",
       "    </tr>\n",
       "    <tr>\n",
       "      <th>126634.0</th>\n",
       "      <td>22.0</td>\n",
       "    </tr>\n",
       "    <tr>\n",
       "      <th>126643.0</th>\n",
       "      <td>48.0</td>\n",
       "    </tr>\n",
       "    <tr>\n",
       "      <th>126649.0</th>\n",
       "      <td>391.0</td>\n",
       "    </tr>\n",
       "    <tr>\n",
       "      <th>126680.0</th>\n",
       "      <td>469.0</td>\n",
       "    </tr>\n",
       "    <tr>\n",
       "      <th>126699.0</th>\n",
       "      <td>1446.0</td>\n",
       "    </tr>\n",
       "  </tbody>\n",
       "</table>\n",
       "<p>75404 rows × 1 columns</p>\n",
       "</div>"
      ],
      "text/plain": [
       "          baidu_population\n",
       "xzdkID                    \n",
       "0.0                   21.0\n",
       "2.0                    9.0\n",
       "5.0                    1.0\n",
       "6.0                    3.0\n",
       "7.0                   28.0\n",
       "...                    ...\n",
       "126634.0              22.0\n",
       "126643.0              48.0\n",
       "126649.0             391.0\n",
       "126680.0             469.0\n",
       "126699.0            1446.0\n",
       "\n",
       "[75404 rows x 1 columns]"
      ]
     },
     "execution_count": 34,
     "metadata": {},
     "output_type": "execute_result"
    }
   ],
   "source": [
    "# 根据xzdkID，汇总统计每个地块内baidu人口的总数\n",
    "xzdk_rk = baidu_population_merged.groupby('xzdkID').agg(\n",
    "        baidu_population =('人数', 'sum')\n",
    "    )\n",
    "xzdk_rk"
   ]
  },
  {
   "cell_type": "code",
   "execution_count": 35,
   "metadata": {},
   "outputs": [],
   "source": [
    "xzyd2 = pd.merge(xzyd, xzdk_rk, on='xzdkID', how='left')"
   ]
  },
  {
   "cell_type": "code",
   "execution_count": 43,
   "metadata": {},
   "outputs": [
    {
     "data": {
      "text/plain": [
       "Index(['BSM', '地块编号', 'xzdkID', 'DLBM', 'DLMC', 'XDLDM', 'XDLMC', 'dlmc_12',\n",
       "       '现状地类代码', '现状地类名称', '现状主地类代码', '现状主地类名称', '现状主地类编码', 'z_ydf2', '用地类别f',\n",
       "       'land_type1', 'land_type2', 'LANDUSAGE', 'similarity', 'rjl', 'z_rjl',\n",
       "       'z_rjl2', 'ldl', 'jzmd', 'jzgd', 'xglx', 'bz', 'ssqx', '供地方式', '权属性质',\n",
       "       '开发动态', 'intersect_point_count', 'buffer_point_count',\n",
       "       'total_point_count', 'BUILDAREA', 'allocated_buildarea', 'cal_rjl',\n",
       "       'ref_rjl2', 'z_rjl3', 'rjl_final', 'jzmj_cal', 'belong_TID',\n",
       "       'Belong_RegID', 'belong_TIDB', 'belong_jiedao', 'belong_xzq',\n",
       "       '现状岗位平均面积', '现状人口平均面积', '现状人口数', '现状岗位数', '人口调整系数', '岗位调整系数',\n",
       "       '现状人口数adj', '现状岗位数adj', '岗位大类', '用地类别f_规划', '岗位大类_规划', 'Shape_Length',\n",
       "       'Shape_Area', '面积', 'geometry', 'baidu_population'],\n",
       "      dtype='object')"
      ]
     },
     "execution_count": 43,
     "metadata": {},
     "output_type": "execute_result"
    }
   ],
   "source": [
    "xzyd2.columns"
   ]
  },
  {
   "cell_type": "markdown",
   "metadata": {},
   "source": [
    "#### 5.3分析计算人口和百度汇总人口的差异"
   ]
  },
  {
   "cell_type": "code",
   "execution_count": 98,
   "metadata": {},
   "outputs": [
    {
     "name": "stderr",
     "output_type": "stream",
     "text": [
      "d:\\3BigData\\LeaningPython2025\\geopandas-coures-files\\.venv\\Lib\\site-packages\\pyogrio\\raw.py:723: RuntimeWarning: Page 0 of D:\\2Gis\\Arcgis Packages\\OD数据库\\od.gdb\\a00000006.freelist contains free area of unexpected size at entry 0\n",
      "  ogr_write(\n",
      "d:\\3BigData\\LeaningPython2025\\geopandas-coures-files\\.venv\\Lib\\site-packages\\pyogrio\\raw.py:723: RuntimeWarning: Page 3 of D:\\2Gis\\Arcgis Packages\\OD数据库\\od.gdb\\a00000004.freelist contains free area of unexpected size at entry 3\n",
      "  ogr_write(\n",
      "d:\\3BigData\\LeaningPython2025\\geopandas-coures-files\\.venv\\Lib\\site-packages\\pyogrio\\raw.py:723: RuntimeWarning: Page 3 of D:\\2Gis\\Arcgis Packages\\OD数据库\\od.gdb\\a00000004.freelist contains free area of unexpected size at entry 2\n",
      "  ogr_write(\n",
      "d:\\3BigData\\LeaningPython2025\\geopandas-coures-files\\.venv\\Lib\\site-packages\\pyogrio\\raw.py:723: RuntimeWarning: Page 3 of D:\\2Gis\\Arcgis Packages\\OD数据库\\od.gdb\\a00000004.freelist contains free area of unexpected size at entry 1\n",
      "  ogr_write(\n"
     ]
    }
   ],
   "source": [
    "baidu_population_merged.to_file(\n",
    "    'D:\\\\2Gis\\\\Arcgis Packages\\\\OD数据库\\\\od.gdb', \n",
    "    layer='百度常住人口数量202411_tag',\n",
    "    driver=\"OpenFileGDB\"\n",
    ")"
   ]
  },
  {
   "cell_type": "markdown",
   "metadata": {},
   "source": [
    "### Last、导出gis，保存至gdb"
   ]
  },
  {
   "cell_type": "markdown",
   "metadata": {},
   "source": [
    "#### 导出前清理z维度和复杂几何类型"
   ]
  },
  {
   "cell_type": "code",
   "execution_count": null,
   "metadata": {},
   "outputs": [],
   "source": [
    "# 将结果合并到原始 xzyd 图层\n",
    "xzyd_with_attr = xzyd.merge(\n",
    "    weighted_jzmj_results,\n",
    "    how='left',         # 保留所有邻里\n",
    "    left_index=True,    # 使用邻里索引匹配\n",
    "    right_index=True\n",
    ")\n",
    "\n",
    "# 如果某些邻里没有交集，则填 0\n",
    "xzyd_with_attr['sum_weighted_BUILDAREA'] = xzyd_with_attr['sum_weighted_BUILDAREA'].fillna(0)\n",
    "\n",
    "# 查看结果\n",
    "xzyd_with_attr.head()"
   ]
  },
  {
   "cell_type": "markdown",
   "metadata": {},
   "source": [
    "#### 导出"
   ]
  },
  {
   "cell_type": "code",
   "execution_count": null,
   "metadata": {},
   "outputs": [],
   "source": [
    "# 处理building可能存在的Z属性和极端几何复杂性，确保可导出到gdb\n",
    "from shapely.geometry import Polygon, MultiPolygon \n",
    "# 假设 building 已经加载并完成了相交分析，\n",
    "# 并且包含了 'has_xzyd_intersection' 字段\n",
    "\n",
    "# --- 诊断步骤 (运行此部分查看 building 的原始问题) ---\n",
    "\n",
    "print(\"--- BUILDING 原始数据诊断 ---\")\n",
    "# 检查 building 的几何体类型 (确认是否只有 Polygon/MultiPolygon)\n",
    "print(\"Building 原始几何体类型:\", building.geom_type.unique())\n",
    "\n",
    "# 检查是否有任何空几何体（NaN）\n",
    "print(\"Building 中空几何体的数量 (NaN):\", building.geometry.isna().sum())\n",
    "\n",
    "# --- GDB 兼容性修复 ---\n",
    "\n",
    "# 1. 确保 building 中没有空几何体\n",
    "building = building[building.geometry.notnull()].copy()\n",
    "\n",
    "# 2. 定义强制转换函数：将所有几何体转换为 2D MultiPolygon (最安全的方式)\n",
    "def to_2d_multi_polygon_safe(geom):\n",
    "    \"\"\"\n",
    "    强制将几何体转换为 2D MultiPolygon 类型。\n",
    "    - 移除 Z 维度\n",
    "    - 确保 Polygon 被包装成 MultiPolygon\n",
    "    - 处理 GeometryCollection 等不兼容类型\n",
    "    \"\"\"\n",
    "    if geom is None:\n",
    "        return None\n",
    "    \n",
    "    # a) 强制转换为 2D (移除 Z 坐标)\n",
    "    # simplify(0) 是移除 Z 维度的常用技巧\n",
    "    geom_2d = geom.simplify(0)\n",
    "\n",
    "    # b) 确保类型是 MultiPolygon/Polygon\n",
    "    if hasattr(geom_2d, 'geoms'):\n",
    "        # 针对 MultiPolygon, GeometryCollection 等\n",
    "        polygons = [g for g in geom_2d.geoms if isinstance(g, Polygon) and not g.is_empty]\n",
    "        if polygons:\n",
    "            return MultiPolygon(polygons)\n",
    "        else:\n",
    "            return None\n",
    "    elif isinstance(geom_2d, Polygon) and not geom_2d.is_empty:\n",
    "        # 如果是 Polygon，转换为 MultiPolygon\n",
    "        return MultiPolygon([geom_2d])\n",
    "    else:\n",
    "        # 排除 Point, LineString 或其他无法识别的类型\n",
    "        return None\n",
    "\n",
    "# 应用强制转换到 building\n",
    "building['geometry'] = building['geometry'].apply(to_2d_multi_polygon_safe)\n",
    "\n",
    "# 3. 清除转换后产生的空行\n",
    "building = building[building.geometry.notnull()].copy()\n",
    "print(f\"\\n清理后 building 剩余记录数: {len(building)}\")\n",
    "\n",
    "\n",
    "# # 4. (额外修复) 将布尔字段转换为整数 (0/1)，避免 GDB 驱动程序对布尔类型的兼容性问题\n",
    "# if 'has_xzyd_intersection' in building.columns:\n",
    "#     building['has_xzyd_intersection_int'] = building['has_xzyd_intersection'].astype(int)\n",
    "#     building = building.drop(columns=['has_xzyd_intersection'])\n",
    "#     print(\"已将布尔字段转换为整数类型 (0/1)。\")\n",
    "\n",
    "\n",
    "# # --- 最终导出尝试 ---\n",
    "# try:\n",
    "#     building.to_file(\n",
    "#         gis_file,\n",
    "#         layer='building_test', # 建议使用新图层名\n",
    "#         driver=\"OpenFileGDB\"\n",
    "#     )\n",
    "#     print(\"\\nBuilding 数据已成功导出到 File GDB。\")\n",
    "\n",
    "# except Exception as e:\n",
    "#     print(f\"\\nBuilding 导出最终失败，错误信息: {e}\")\n",
    "#     print(\"建议：如果仍然失败，请尝试导出到 GeoPackage (.gpkg) 或 Shapefile (.shp)\")"
   ]
  },
  {
   "cell_type": "code",
   "execution_count": 36,
   "metadata": {},
   "outputs": [],
   "source": [
    "xzyd2.to_file(\n",
    "    gis_file,\n",
    "    layer='L1现状用地xzyd_test',\n",
    "    driver=\"OpenFileGDB\"\n",
    ")"
   ]
  },
  {
   "cell_type": "code",
   "execution_count": null,
   "metadata": {},
   "outputs": [],
   "source": [
    "building.to_file(\n",
    "    gis_file,\n",
    "    layer='Building_test',\n",
    "    driver=\"OpenFileGDB\"\n",
    ")"
   ]
  },
  {
   "cell_type": "code",
   "execution_count": 37,
   "metadata": {},
   "outputs": [
    {
     "name": "stdout",
     "output_type": "stream",
     "text": [
      "分组汇总完成，结果行数: 3113\n"
     ]
    },
    {
     "data": {
      "text/html": [
       "<div>\n",
       "<style scoped>\n",
       "    .dataframe tbody tr th:only-of-type {\n",
       "        vertical-align: middle;\n",
       "    }\n",
       "\n",
       "    .dataframe tbody tr th {\n",
       "        vertical-align: top;\n",
       "    }\n",
       "\n",
       "    .dataframe thead th {\n",
       "        text-align: right;\n",
       "    }\n",
       "</style>\n",
       "<table border=\"1\" class=\"dataframe\">\n",
       "  <thead>\n",
       "    <tr style=\"text-align: right;\">\n",
       "      <th></th>\n",
       "      <th>belong_TID</th>\n",
       "      <th>belong_jiedao</th>\n",
       "      <th>belong_xzq</th>\n",
       "      <th>sum_现状人口数adj</th>\n",
       "      <th>sum_baidu_population</th>\n",
       "    </tr>\n",
       "  </thead>\n",
       "  <tbody>\n",
       "    <tr>\n",
       "      <th>0</th>\n",
       "      <td>T00001</td>\n",
       "      <td>高虹镇</td>\n",
       "      <td>临安区</td>\n",
       "      <td>7232.927953</td>\n",
       "      <td>19862.0</td>\n",
       "    </tr>\n",
       "    <tr>\n",
       "      <th>1</th>\n",
       "      <td>T00002</td>\n",
       "      <td>高虹镇</td>\n",
       "      <td>临安区</td>\n",
       "      <td>3634.643014</td>\n",
       "      <td>5398.0</td>\n",
       "    </tr>\n",
       "    <tr>\n",
       "      <th>2</th>\n",
       "      <td>T00003</td>\n",
       "      <td>高虹镇</td>\n",
       "      <td>临安区</td>\n",
       "      <td>965.044864</td>\n",
       "      <td>3752.0</td>\n",
       "    </tr>\n",
       "    <tr>\n",
       "      <th>3</th>\n",
       "      <td>T00004</td>\n",
       "      <td>锦北街道</td>\n",
       "      <td>临安区</td>\n",
       "      <td>941.155857</td>\n",
       "      <td>3503.0</td>\n",
       "    </tr>\n",
       "    <tr>\n",
       "      <th>4</th>\n",
       "      <td>T00005</td>\n",
       "      <td>湍口镇</td>\n",
       "      <td>临安区</td>\n",
       "      <td>3361.118986</td>\n",
       "      <td>528910.0</td>\n",
       "    </tr>\n",
       "    <tr>\n",
       "      <th>5</th>\n",
       "      <td>T00006</td>\n",
       "      <td>潜川镇</td>\n",
       "      <td>临安区</td>\n",
       "      <td>4142.520694</td>\n",
       "      <td>72197.0</td>\n",
       "    </tr>\n",
       "    <tr>\n",
       "      <th>6</th>\n",
       "      <td>T00007</td>\n",
       "      <td>天目山镇</td>\n",
       "      <td>临安区</td>\n",
       "      <td>5666.410655</td>\n",
       "      <td>27152.0</td>\n",
       "    </tr>\n",
       "    <tr>\n",
       "      <th>7</th>\n",
       "      <td>T00008</td>\n",
       "      <td>太阳镇</td>\n",
       "      <td>临安区</td>\n",
       "      <td>8468.481849</td>\n",
       "      <td>16170.0</td>\n",
       "    </tr>\n",
       "    <tr>\n",
       "      <th>8</th>\n",
       "      <td>T00009</td>\n",
       "      <td>昌化镇</td>\n",
       "      <td>临安区</td>\n",
       "      <td>20835.616953</td>\n",
       "      <td>24020.0</td>\n",
       "    </tr>\n",
       "    <tr>\n",
       "      <th>9</th>\n",
       "      <td>T00010</td>\n",
       "      <td>玲珑街道</td>\n",
       "      <td>临安区</td>\n",
       "      <td>4584.790677</td>\n",
       "      <td>14245.0</td>\n",
       "    </tr>\n",
       "  </tbody>\n",
       "</table>\n",
       "</div>"
      ],
      "text/plain": [
       "  belong_TID belong_jiedao belong_xzq  sum_现状人口数adj  sum_baidu_population\n",
       "0     T00001           高虹镇        临安区   7232.927953               19862.0\n",
       "1     T00002           高虹镇        临安区   3634.643014                5398.0\n",
       "2     T00003           高虹镇        临安区    965.044864                3752.0\n",
       "3     T00004          锦北街道        临安区    941.155857                3503.0\n",
       "4     T00005           湍口镇        临安区   3361.118986              528910.0\n",
       "5     T00006           潜川镇        临安区   4142.520694               72197.0\n",
       "6     T00007          天目山镇        临安区   5666.410655               27152.0\n",
       "7     T00008           太阳镇        临安区   8468.481849               16170.0\n",
       "8     T00009           昌化镇        临安区  20835.616953               24020.0\n",
       "9     T00010          玲珑街道        临安区   4584.790677               14245.0"
      ]
     },
     "metadata": {},
     "output_type": "display_data"
    }
   ],
   "source": [
    "# 依据所属街道/区县汇总现状人口与百度人口\n",
    "agg_cols = ['belong_TID', 'belong_jiedao', 'belong_xzq']\n",
    "missing_cols = [c for c in agg_cols if c not in xzyd2.columns]\n",
    "if missing_cols:\n",
    "    raise KeyError(f\"xzyd2 缺少分组列: {missing_cols}\")\n",
    "\n",
    "pop_summary = (\n",
    "    xzyd2.groupby(agg_cols, dropna=False)[['现状人口数adj', 'baidu_population']]\n",
    "        .sum(min_count=1)\n",
    "        .reset_index()\n",
    "        .rename(columns={\n",
    "            '现状人口数adj': 'sum_现状人口数adj',\n",
    "            'baidu_population': 'sum_baidu_population'\n",
    "        })\n",
    ")\n",
    "\n",
    "print('分组汇总完成，结果行数:', len(pop_summary))\n",
    "try:\n",
    "    display(pop_summary.head(10))\n",
    "except Exception:\n",
    "    print(pop_summary.head(10))\n"
   ]
  }
 ],
 "metadata": {
  "kernelspec": {
   "display_name": ".venv",
   "language": "python",
   "name": "python3"
  },
  "language_info": {
   "codemirror_mode": {
    "name": "ipython",
    "version": 3
   },
   "file_extension": ".py",
   "mimetype": "text/x-python",
   "name": "python",
   "nbconvert_exporter": "python",
   "pygments_lexer": "ipython3",
   "version": "3.12.7"
  }
 },
 "nbformat": 4,
 "nbformat_minor": 2
}
